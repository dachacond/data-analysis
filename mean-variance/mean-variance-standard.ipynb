{
 "cells": [
  {
   "attachments": {},
   "cell_type": "markdown",
   "metadata": {},
   "source": [
    "Mean-Variance-Standard Deviation Calculator"
   ]
  },
  {
   "cell_type": "code",
   "execution_count": 1,
   "metadata": {},
   "outputs": [],
   "source": [
    "import numpy as np"
   ]
  },
  {
   "cell_type": "code",
   "execution_count": 14,
   "metadata": {},
   "outputs": [],
   "source": [
    "def calculate(lista):\n",
    "    if len(lista) < 9:\n",
    "        raise ValueError(\"List must contain nine numbers.\")\n",
    "    else:\n",
    "        m = np.array(lista).reshape(3,3)\n",
    "        f = m.flatten()\n",
    "        \n",
    "        mean_y = np.mean(m, axis = 0).tolist() \n",
    "        mean_x = np.mean(m, axis = 1).tolist()\n",
    "        mean_f = np.mean(f).tolist()\n",
    "\n",
    "        dicc = {}\n",
    "        dicc['mean'] = [mean_y, mean_x, mean_f ]\n",
    "\n",
    "        return dicc\n"
   ]
  },
  {
   "cell_type": "code",
   "execution_count": 15,
   "metadata": {},
   "outputs": [
    {
     "data": {
      "text/plain": [
       "{'mean': [[3.0, 4.0, 5.0], [1.0, 4.0, 7.0], 4.0]}"
      ]
     },
     "execution_count": 15,
     "metadata": {},
     "output_type": "execute_result"
    }
   ],
   "source": [
    "l = [i for i in range(0,9)]\n",
    "calculate(l)\n"
   ]
  }
 ],
 "metadata": {
  "kernelspec": {
   "display_name": "base",
   "language": "python",
   "name": "python3"
  },
  "language_info": {
   "codemirror_mode": {
    "name": "ipython",
    "version": 3
   },
   "file_extension": ".py",
   "mimetype": "text/x-python",
   "name": "python",
   "nbconvert_exporter": "python",
   "pygments_lexer": "ipython3",
   "version": "3.9.13"
  },
  "orig_nbformat": 4
 },
 "nbformat": 4,
 "nbformat_minor": 2
}
