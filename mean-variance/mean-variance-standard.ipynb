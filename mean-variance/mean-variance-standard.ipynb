{
 "cells": [
  {
   "attachments": {},
   "cell_type": "markdown",
   "metadata": {},
   "source": [
    "Mean-Variance-Standard Deviation Calculator"
   ]
  },
  {
   "cell_type": "code",
   "execution_count": 1,
   "metadata": {},
   "outputs": [],
   "source": [
    "import numpy as np"
   ]
  },
  {
   "cell_type": "code",
   "execution_count": 8,
   "metadata": {},
   "outputs": [],
   "source": [
    "def calculate(lista):\n",
    "    if len(lista) != 9:\n",
    "        raise ValueError(\"List must contain nine numbers.\")\n",
    "    else:\n",
    "        m = np.array(lista).reshape(3,3)\n",
    "        f = m.flatten()\n",
    "        \n",
    "        mean_y = np.mean(m, axis = 0).tolist() \n",
    "        mean_x = np.mean(m, axis = 1).tolist()\n",
    "        mean_f = np.mean(f).tolist()\n",
    "\n",
    "        var_y = np.var(m, axis = 0).tolist()\n",
    "        var_x = np.var(m, axis = 1).tolist()\n",
    "        var_f = np.var(f).tolist()\n",
    "\n",
    "        std_y = np.std(m, axis = 0).tolist()\n",
    "        std_x = np.std(m, axis = 1).tolist()\n",
    "        std_f = np.std(f).tolist()\n",
    "\n",
    "        max_y = np.max(m, axis = 0).tolist()\n",
    "        max_x = np.max(m, axis = 1).tolist()\n",
    "        max_f = np.max(f).tolist()\n",
    "\n",
    "        min_y = np.min(m, axis = 0).tolist()\n",
    "        min_x = np.min(m, axis = 1).tolist()\n",
    "        min_f = np.min(f).tolist()\n",
    "\n",
    "        sum_y = np.sum(m, axis = 0).tolist()\n",
    "        sum_x = np.sum(m, axis = 1).tolist()\n",
    "        sum_f = np.sum(f).tolist()\n",
    "\n",
    "        dicc = {}\n",
    "        dicc['mean'] = [mean_y, mean_x, mean_f ]\n",
    "        dicc['variance'] = [var_y, var_x, var_f ]\n",
    "        dicc['standard deviation'] = [std_y, std_x, std_f ]\n",
    "        dicc['max'] = [max_y, max_x, max_f ]\n",
    "        dicc['min'] = [min_y, min_x, min_f ]\n",
    "        dicc['sum'] = [sum_y, sum_x, sum_f ]\n",
    "\n",
    "        return dicc\n"
   ]
  },
  {
   "cell_type": "code",
   "execution_count": 9,
   "metadata": {},
   "outputs": [
    {
     "data": {
      "text/plain": [
       "{'mean': [[3.0, 4.0, 5.0], [1.0, 4.0, 7.0], 4.0],\n",
       " 'variance': [[6.0, 6.0, 6.0],\n",
       "  [0.6666666666666666, 0.6666666666666666, 0.6666666666666666],\n",
       "  6.666666666666667],\n",
       " 'standard deviation': [[2.449489742783178,\n",
       "   2.449489742783178,\n",
       "   2.449489742783178],\n",
       "  [0.816496580927726, 0.816496580927726, 0.816496580927726],\n",
       "  2.581988897471611],\n",
       " 'max': [[6, 7, 8], [2, 5, 8], 8],\n",
       " 'min': [[0, 1, 2], [0, 3, 6], 0],\n",
       " 'sum': [[9, 12, 15], [3, 12, 21], 36]}"
      ]
     },
     "execution_count": 9,
     "metadata": {},
     "output_type": "execute_result"
    }
   ],
   "source": [
    "l = [i for i in range(0,9)]\n",
    "calculate(l)\n"
   ]
  }
 ],
 "metadata": {
  "kernelspec": {
   "display_name": "base",
   "language": "python",
   "name": "python3"
  },
  "language_info": {
   "codemirror_mode": {
    "name": "ipython",
    "version": 3
   },
   "file_extension": ".py",
   "mimetype": "text/x-python",
   "name": "python",
   "nbconvert_exporter": "python",
   "pygments_lexer": "ipython3",
   "version": "3.9.13"
  },
  "orig_nbformat": 4
 },
 "nbformat": 4,
 "nbformat_minor": 2
}
